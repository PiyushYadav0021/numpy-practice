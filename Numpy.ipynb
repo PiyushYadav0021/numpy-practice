{
 "cells": [
  {
   "cell_type": "code",
   "execution_count": 1,
   "id": "10f80777",
   "metadata": {
    "scrolled": true
   },
   "outputs": [],
   "source": [
    "# Import NumPy and Matplotlib for computations and plotting\n",
    "\n",
    "import numpy as np \n",
    "import matplotlib.pyplot as plt"
   ]
  },
  {
   "cell_type": "markdown",
   "id": "37ef6403",
   "metadata": {},
   "source": [
    "# NumPy Basics\n",
    "\n",
    "\n",
    "1D, 2D, and 3D Arrays\n",
    "\n",
    "\n",
    "Array Creation Functions: ones, zeros, arange, etc.\n",
    "\n",
    "\n",
    "Performance Comparison: Python List vs NumPy Array"
   ]
  },
  {
   "cell_type": "code",
   "execution_count": 2,
   "id": "22389bb0",
   "metadata": {},
   "outputs": [
    {
     "name": "stdout",
     "output_type": "stream",
     "text": [
      "[1 2 3 4 6 1 4]\n",
      "[ 0  1  2  3  4  5  6  7  8  9 10 11 12 13 14 15 16 17 18 19 20 21]\n"
     ]
    }
   ],
   "source": [
    "# Make an array using NumPy\n",
    "A = np.array([1,2,3,4,6,1,4,])\n",
    "print(A)\n",
    "\n",
    "# Create an array of numbers from 0 to 21 using a loop (arange)\n",
    "print(np.arange(22))"
   ]
  },
  {
   "cell_type": "code",
   "execution_count": 3,
   "id": "d62c1ed9",
   "metadata": {},
   "outputs": [
    {
     "name": "stdout",
     "output_type": "stream",
     "text": [
      "187 µs ± 5.51 µs per loop (mean ± std. dev. of 7 runs, 10,000 loops each)\n"
     ]
    }
   ],
   "source": [
    "# NumPy is used to speed up mathematical computations (normal Python list vs NumPy array)\n",
    "\n",
    "#Python list\n",
    "L = range (1000)\n",
    "%timeit [i**2 for i in L]"
   ]
  },
  {
   "cell_type": "code",
   "execution_count": 4,
   "id": "1c4fa839",
   "metadata": {},
   "outputs": [
    {
     "name": "stdout",
     "output_type": "stream",
     "text": [
      "3.91 µs ± 227 ns per loop (mean ± std. dev. of 7 runs, 100,000 loops each)\n"
     ]
    }
   ],
   "source": [
    "# NumPy array example\n",
    "a = np.arange(1000)\n",
    "%timeit a**2"
   ]
  },
  {
   "cell_type": "code",
   "execution_count": 5,
   "id": "e60fba2c",
   "metadata": {},
   "outputs": [
    {
     "name": "stdout",
     "output_type": "stream",
     "text": [
      "[ 1  2  3  4  1  2  3 21 23  2]\n",
      "dimension is 1\n",
      "shape is (10,)\n"
     ]
    },
    {
     "data": {
      "text/plain": [
       "10"
      ]
     },
     "execution_count": 5,
     "metadata": {},
     "output_type": "execute_result"
    }
   ],
   "source": [
    "#Create 1 dimension array\n",
    "\n",
    "a = np.array([1,2,3,4,1,2,3,21,23,2])\n",
    "print(a)\n",
    "print(\"dimension is\", a.ndim)\n",
    "print(\"shape is\", a.shape)\n",
    "len(a)"
   ]
  },
  {
   "cell_type": "code",
   "execution_count": 6,
   "id": "e78cf662",
   "metadata": {},
   "outputs": [
    {
     "name": "stdout",
     "output_type": "stream",
     "text": [
      "[[ 1 23  2]\n",
      " [12  2  3]]\n",
      "dimension is 2\n",
      "shape is (2, 3)\n"
     ]
    },
    {
     "data": {
      "text/plain": [
       "2"
      ]
     },
     "execution_count": 6,
     "metadata": {},
     "output_type": "execute_result"
    }
   ],
   "source": [
    "#Create a 2-D array\n",
    "\n",
    "b = np.array([[1,23,2],[12,2,3]])\n",
    "print(b)\n",
    "print(\"dimension is\",b.ndim)\n",
    "print(\"shape is\", b.shape)\n",
    "len(b)"
   ]
  },
  {
   "cell_type": "code",
   "execution_count": 7,
   "id": "be89d44d",
   "metadata": {},
   "outputs": [
    {
     "name": "stdout",
     "output_type": "stream",
     "text": [
      "[[[1 2]\n",
      "  [3 4]]\n",
      "\n",
      " [[4 5]\n",
      "  [6 7]]]\n"
     ]
    }
   ],
   "source": [
    "#Create a 3-D array (Tensor)\n",
    "\n",
    "Tensor = np.array([[[1,2],[3,4]],\n",
    "                  [[4,5],[6,7]]])\n",
    "print(Tensor)"
   ]
  },
  {
   "cell_type": "code",
   "execution_count": 8,
   "id": "284e8287",
   "metadata": {},
   "outputs": [
    {
     "data": {
      "text/plain": [
       "array([[1., 1., 1.],\n",
       "       [1., 1., 1.],\n",
       "       [1., 1., 1.]])"
      ]
     },
     "execution_count": 8,
     "metadata": {},
     "output_type": "execute_result"
    }
   ],
   "source": [
    "# Create a array with only 1's\n",
    "\n",
    "c= np.ones((3,3))\n",
    "c"
   ]
  },
  {
   "cell_type": "code",
   "execution_count": 9,
   "id": "31cda49b",
   "metadata": {},
   "outputs": [
    {
     "data": {
      "text/plain": [
       "array([[0., 0.],\n",
       "       [0., 0.]])"
      ]
     },
     "execution_count": 9,
     "metadata": {},
     "output_type": "execute_result"
    }
   ],
   "source": [
    "# Create a array with only 0's\n",
    "np.zeros((2,2))"
   ]
  },
  {
   "cell_type": "code",
   "execution_count": 10,
   "id": "106831cf",
   "metadata": {},
   "outputs": [
    {
     "data": {
      "text/plain": [
       "array([[1., 0., 0.],\n",
       "       [0., 1., 0.],\n",
       "       [0., 0., 1.]])"
      ]
     },
     "execution_count": 10,
     "metadata": {},
     "output_type": "execute_result"
    }
   ],
   "source": [
    "# Create a array with only 1's\n",
    "np.eye((3))\n"
   ]
  },
  {
   "cell_type": "code",
   "execution_count": 11,
   "id": "70957eb9",
   "metadata": {},
   "outputs": [
    {
     "data": {
      "text/plain": [
       "array([[1., 0.],\n",
       "       [0., 1.],\n",
       "       [0., 0.]])"
      ]
     },
     "execution_count": 11,
     "metadata": {},
     "output_type": "execute_result"
    }
   ],
   "source": [
    "##create a matrix with diagonal values (1)\n",
    "d = np.eye(3,2)\n",
    "d"
   ]
  },
  {
   "cell_type": "code",
   "execution_count": 12,
   "id": "607f3d0b",
   "metadata": {},
   "outputs": [
    {
     "name": "stdout",
     "output_type": "stream",
     "text": [
      "[[3 3 3 3]\n",
      " [3 3 3 3]\n",
      " [3 3 3 3]\n",
      " [3 3 3 3]]\n"
     ]
    }
   ],
   "source": [
    "arr_full = np.full((4,4),3)\n",
    "print(arr_full)"
   ]
  },
  {
   "cell_type": "code",
   "execution_count": 13,
   "id": "954f460a",
   "metadata": {},
   "outputs": [
    {
     "data": {
      "text/plain": [
       "array([0.39444692, 0.04924643, 0.62989993])"
      ]
     },
     "execution_count": 13,
     "metadata": {},
     "output_type": "execute_result"
    }
   ],
   "source": [
    "#create a random array of given dimensions\n",
    "e = np.random.rand(3)\n",
    "e"
   ]
  },
  {
   "cell_type": "code",
   "execution_count": 14,
   "id": "782af2a6",
   "metadata": {},
   "outputs": [
    {
     "data": {
      "text/plain": [
       "array([[0.82236507, 0.52985754],\n",
       "       [0.62926956, 0.42860105],\n",
       "       [0.08456514, 0.2829071 ]])"
      ]
     },
     "execution_count": 14,
     "metadata": {},
     "output_type": "execute_result"
    }
   ],
   "source": [
    "#create a random matrix of given dimensions\n",
    "e = np.random.rand(3,2)\n",
    "e"
   ]
  },
  {
   "cell_type": "code",
   "execution_count": 15,
   "id": "7c2c9eb2",
   "metadata": {},
   "outputs": [
    {
     "data": {
      "text/plain": [
       "array([0.82236507, 0.42860105])"
      ]
     },
     "execution_count": 15,
     "metadata": {},
     "output_type": "execute_result"
    }
   ],
   "source": [
    "#check and write diagonal elements\n",
    "f = np.diag(e)\n",
    "f"
   ]
  },
  {
   "cell_type": "code",
   "execution_count": 16,
   "id": "340c5c70",
   "metadata": {},
   "outputs": [
    {
     "data": {
      "text/plain": [
       "array([[1, 0, 0, 0, 0],\n",
       "       [0, 2, 0, 0, 0],\n",
       "       [0, 0, 3, 0, 0],\n",
       "       [0, 0, 0, 4, 0],\n",
       "       [0, 0, 0, 0, 5]])"
      ]
     },
     "execution_count": 16,
     "metadata": {},
     "output_type": "execute_result"
    }
   ],
   "source": [
    "#Use to create the diagonal matrix\n",
    "f = np.diag([1,2,3,4,5])\n",
    "f"
   ]
  },
  {
   "cell_type": "code",
   "execution_count": 17,
   "id": "e18afd38",
   "metadata": {},
   "outputs": [
    {
     "data": {
      "text/plain": [
       "5"
      ]
     },
     "execution_count": 17,
     "metadata": {},
     "output_type": "execute_result"
    }
   ],
   "source": [
    "# check and will tell the no. of element in array (f)\n",
    "len(f)"
   ]
  },
  {
   "cell_type": "code",
   "execution_count": 18,
   "id": "93b87658",
   "metadata": {},
   "outputs": [
    {
     "data": {
      "text/plain": [
       "(5, 5)"
      ]
     },
     "execution_count": 18,
     "metadata": {},
     "output_type": "execute_result"
    }
   ],
   "source": [
    "#will tell the dimensionality (in form of m*n) of array(f)\n",
    "f.shape"
   ]
  },
  {
   "cell_type": "code",
   "execution_count": 19,
   "id": "e29b4222",
   "metadata": {},
   "outputs": [
    {
     "data": {
      "text/plain": [
       "2"
      ]
     },
     "execution_count": 19,
     "metadata": {},
     "output_type": "execute_result"
    }
   ],
   "source": [
    "#will tell the dimension of array(f)\n",
    "f.ndim"
   ]
  },
  {
   "cell_type": "code",
   "execution_count": 20,
   "id": "b5b20106",
   "metadata": {},
   "outputs": [
    {
     "data": {
      "text/plain": [
       "array([1, 0, 0, 0, 0, 0, 2, 0, 0, 0, 0, 0, 3, 0, 0, 0, 0, 0, 4, 0, 0, 0,\n",
       "       0, 0, 5])"
      ]
     },
     "execution_count": 20,
     "metadata": {},
     "output_type": "execute_result"
    }
   ],
   "source": [
    "#It make matrix in a single dimensions\n",
    "f.flatten()"
   ]
  },
  {
   "cell_type": "code",
   "execution_count": 21,
   "id": "9f341d90",
   "metadata": {},
   "outputs": [
    {
     "data": {
      "text/plain": [
       "array([1, 0, 0, 0, 0, 0, 2, 0, 0, 0, 0, 0, 3, 0, 0, 0, 0, 0, 4, 0, 0, 0,\n",
       "       0, 0, 5])"
      ]
     },
     "execution_count": 21,
     "metadata": {},
     "output_type": "execute_result"
    }
   ],
   "source": [
    "# It is same as flatten but faster than flatten and don't reshape any array\n",
    "f.ravel()"
   ]
  },
  {
   "cell_type": "code",
   "execution_count": 22,
   "id": "f6e1bd5d",
   "metadata": {},
   "outputs": [
    {
     "data": {
      "text/plain": [
       "5"
      ]
     },
     "execution_count": 22,
     "metadata": {},
     "output_type": "execute_result"
    }
   ],
   "source": [
    "#find the maximum value in array\n",
    "np.max(f)"
   ]
  },
  {
   "cell_type": "code",
   "execution_count": 23,
   "id": "b3dbe226",
   "metadata": {},
   "outputs": [
    {
     "data": {
      "text/plain": [
       "0"
      ]
     },
     "execution_count": 23,
     "metadata": {},
     "output_type": "execute_result"
    }
   ],
   "source": [
    "#find the minimum value in array\n",
    "np.min(f)"
   ]
  },
  {
   "cell_type": "code",
   "execution_count": 24,
   "id": "c9910880",
   "metadata": {},
   "outputs": [
    {
     "data": {
      "text/plain": [
       "24"
      ]
     },
     "execution_count": 24,
     "metadata": {},
     "output_type": "execute_result"
    }
   ],
   "source": [
    "#find the index of maximum value in array\n",
    "np.argmax(f)"
   ]
  },
  {
   "cell_type": "code",
   "execution_count": 25,
   "id": "69bb0ad1",
   "metadata": {},
   "outputs": [
    {
     "data": {
      "text/plain": [
       "15"
      ]
     },
     "execution_count": 25,
     "metadata": {},
     "output_type": "execute_result"
    }
   ],
   "source": [
    "#find the sum of element in array\n",
    "np.sum(f)"
   ]
  },
  {
   "cell_type": "code",
   "execution_count": 26,
   "id": "0b0bc562",
   "metadata": {},
   "outputs": [
    {
     "data": {
      "text/plain": [
       "0.6"
      ]
     },
     "execution_count": 26,
     "metadata": {},
     "output_type": "execute_result"
    }
   ],
   "source": [
    "#find the mean of element in array\n",
    "np.mean(f)"
   ]
  },
  {
   "cell_type": "code",
   "execution_count": 27,
   "id": "6360c44f",
   "metadata": {},
   "outputs": [
    {
     "data": {
      "text/plain": [
       "array([[1.        , 0.        , 0.        , 0.        , 0.        ],\n",
       "       [0.        , 1.41421356, 0.        , 0.        , 0.        ],\n",
       "       [0.        , 0.        , 1.73205081, 0.        , 0.        ],\n",
       "       [0.        , 0.        , 0.        , 2.        , 0.        ],\n",
       "       [0.        , 0.        , 0.        , 0.        , 2.23606798]])"
      ]
     },
     "execution_count": 27,
     "metadata": {},
     "output_type": "execute_result"
    }
   ],
   "source": [
    "#find the square root of element in array\n",
    "np.sqrt(f)"
   ]
  },
  {
   "cell_type": "code",
   "execution_count": 28,
   "id": "89bd121d",
   "metadata": {},
   "outputs": [
    {
     "data": {
      "text/plain": [
       "1.3564659966250536"
      ]
     },
     "execution_count": 28,
     "metadata": {},
     "output_type": "execute_result"
    }
   ],
   "source": [
    "#find the standard deviation of array\n",
    "np.std(f)"
   ]
  },
  {
   "cell_type": "code",
   "execution_count": 29,
   "id": "9ea44a69",
   "metadata": {},
   "outputs": [
    {
     "name": "stderr",
     "output_type": "stream",
     "text": [
      "C:\\Users\\piyus\\AppData\\Local\\Temp\\ipykernel_27904\\2909173456.py:2: RuntimeWarning: divide by zero encountered in log\n",
      "  np.log(f)\n"
     ]
    },
    {
     "data": {
      "text/plain": [
       "array([[0.        ,       -inf,       -inf,       -inf,       -inf],\n",
       "       [      -inf, 0.69314718,       -inf,       -inf,       -inf],\n",
       "       [      -inf,       -inf, 1.09861229,       -inf,       -inf],\n",
       "       [      -inf,       -inf,       -inf, 1.38629436,       -inf],\n",
       "       [      -inf,       -inf,       -inf,       -inf, 1.60943791]])"
      ]
     },
     "execution_count": 29,
     "metadata": {},
     "output_type": "execute_result"
    }
   ],
   "source": [
    "#find the log of element in array\n",
    "np.log(f)"
   ]
  },
  {
   "cell_type": "code",
   "execution_count": 30,
   "id": "19d3a58a",
   "metadata": {},
   "outputs": [
    {
     "data": {
      "text/plain": [
       "1.0"
      ]
     },
     "execution_count": 30,
     "metadata": {},
     "output_type": "execute_result"
    }
   ],
   "source": [
    "#Use of pi\n",
    "np.sin(np.pi/2)"
   ]
  },
  {
   "cell_type": "code",
   "execution_count": 31,
   "id": "4ca47adb",
   "metadata": {},
   "outputs": [
    {
     "data": {
      "text/plain": [
       "0.0"
      ]
     },
     "execution_count": 31,
     "metadata": {},
     "output_type": "execute_result"
    }
   ],
   "source": [
    "#Use of trignometry\n",
    "np.sin(0)"
   ]
  },
  {
   "cell_type": "code",
   "execution_count": 32,
   "id": "073a7731",
   "metadata": {
    "scrolled": true
   },
   "outputs": [
    {
     "name": "stdout",
     "output_type": "stream",
     "text": [
      "int32\n"
     ]
    }
   ],
   "source": [
    "a = np.arange(10)\n",
    "\n",
    "print(a.dtype)"
   ]
  },
  {
   "cell_type": "code",
   "execution_count": 33,
   "id": "c1561c2f",
   "metadata": {},
   "outputs": [
    {
     "data": {
      "text/plain": [
       "array([0., 1., 2., 3., 4., 5., 6., 7., 8., 9.])"
      ]
     },
     "execution_count": 33,
     "metadata": {},
     "output_type": "execute_result"
    }
   ],
   "source": [
    "a = np.arange(10, dtype='float64')\n",
    "a"
   ]
  },
  {
   "cell_type": "code",
   "execution_count": 34,
   "id": "36e86d97",
   "metadata": {},
   "outputs": [
    {
     "data": {
      "text/plain": [
       "dtype('float64')"
      ]
     },
     "execution_count": 34,
     "metadata": {},
     "output_type": "execute_result"
    }
   ],
   "source": [
    "b = np.ones((3,3))\n",
    "b.dtype\n"
   ]
  },
  {
   "cell_type": "code",
   "execution_count": 35,
   "id": "dd051d7b",
   "metadata": {},
   "outputs": [
    {
     "data": {
      "text/plain": [
       "array([[1., 1., 1.],\n",
       "       [1., 1., 1.],\n",
       "       [1., 1., 1.]])"
      ]
     },
     "execution_count": 35,
     "metadata": {},
     "output_type": "execute_result"
    }
   ],
   "source": [
    "b = np.ones((3,3))\n",
    "b"
   ]
  },
  {
   "cell_type": "markdown",
   "id": "294bf9aa",
   "metadata": {},
   "source": [
    "# slicing"
   ]
  },
  {
   "cell_type": "code",
   "execution_count": 36,
   "id": "54939a8b",
   "metadata": {},
   "outputs": [
    {
     "name": "stdout",
     "output_type": "stream",
     "text": [
      "Basic Slicing : [2 3 4 5 6]\n",
      "Slicing with steps : [2 4 6 8]\n",
      "Negative Slicing:  10\n"
     ]
    }
   ],
   "source": [
    "#1'D array slicing\n",
    "\n",
    "arr_1D = np.array([1,2,3,4,5,6,7,8,9,10,11,12,13])\n",
    "print(\"Basic Slicing :\", arr_1D[1:6])\n",
    "print(\"Slicing with steps :\", arr_1D[1:8:2])\n",
    "print(\"Negative Slicing: \", arr_1D[-4])"
   ]
  },
  {
   "cell_type": "code",
   "execution_count": 37,
   "id": "8b5f09f5",
   "metadata": {
    "scrolled": true
   },
   "outputs": [
    {
     "name": "stdout",
     "output_type": "stream",
     "text": [
      "Specific Elements : 7\n",
      "Basic Slicing : [[5 6 7 8]]\n",
      "entire row : [5 6 7 8]\n",
      "entire column : [2 6 1]\n"
     ]
    }
   ],
   "source": [
    "#2'D array Slicing\n",
    "\n",
    "arr_2D = np.array([[1,2,3,4],\n",
    "                  [5,6,7,8],\n",
    "                 [9,1,2,4]])\n",
    "print(\"Specific Elements :\", arr_2D[1,2]) #It will write the value of 2's index value of 1's index coloumn\n",
    "print(\"Basic Slicing :\", arr_2D[1:2])\n",
    "print(\"entire row :\", arr_2D[1])\n",
    "print(\"entire column :\", arr_2D[:, 1])"
   ]
  },
  {
   "cell_type": "markdown",
   "id": "2cb1fd10",
   "metadata": {},
   "source": [
    "# Sorting\n"
   ]
  },
  {
   "cell_type": "code",
   "execution_count": 38,
   "id": "11e0cc8a",
   "metadata": {},
   "outputs": [
    {
     "name": "stdout",
     "output_type": "stream",
     "text": [
      "Sorted Array:  [ 0  1  2  2  2  4  5  5  7  8 36]\n",
      "Sorted 2D Array:  [[1 1]\n",
      " [2 1]\n",
      " [3 2]]\n",
      "Sorted 2D Array:  [[1 2]\n",
      " [1 2]\n",
      " [1 3]]\n"
     ]
    }
   ],
   "source": [
    "unsorted_array = np.array([1,2,2,36,2,5,7,4,8,5,0])\n",
    "\n",
    "print(\"Sorted Array: \", np.sort(unsorted_array)) #1D array\n",
    "\n",
    "unsorted2d_array = np.array([[1,2],[2,1],[3,1]])\n",
    "print(\"Sorted 2D Array: \", np.sort(unsorted2d_array, axis=0))\n",
    "print(\"Sorted 2D Array: \", np.sort(unsorted2d_array, axis=1))"
   ]
  },
  {
   "cell_type": "markdown",
   "id": "fae3a57f",
   "metadata": {},
   "source": [
    "# Filter and filter with mask"
   ]
  },
  {
   "cell_type": "code",
   "execution_count": 39,
   "id": "b1538801",
   "metadata": {},
   "outputs": [
    {
     "name": "stdout",
     "output_type": "stream",
     "text": [
      "[ 1  3  5  7  9  1 11 15]\n"
     ]
    }
   ],
   "source": [
    "#Filter\n",
    "Number = np.array([1,2,3,4,5,6,7,8,9,10,1,11,12,14,15])\n",
    "\n",
    "odd_Number = Number[Number % 2 !=0]\n",
    "print(odd_Number)"
   ]
  },
  {
   "cell_type": "code",
   "execution_count": 40,
   "id": "ffadfcdc",
   "metadata": {},
   "outputs": [
    {
     "name": "stdout",
     "output_type": "stream",
     "text": [
      "[ 4  5  6  7  8  9 10 11 12 14 15]\n",
      "[False False False  True  True  True  True  True  True  True False  True\n",
      "  True  True  True]\n"
     ]
    }
   ],
   "source": [
    "#Filter with Mask\n",
    "\n",
    "Mask = Number > 3\n",
    "print(Number[Mask])\n",
    "print(Mask)"
   ]
  },
  {
   "cell_type": "code",
   "execution_count": 41,
   "id": "a873e6a9",
   "metadata": {},
   "outputs": [
    {
     "name": "stdout",
     "output_type": "stream",
     "text": [
      "[2 3 5]\n",
      "[1 2 3 1]\n"
     ]
    }
   ],
   "source": [
    "indices = [1,2,4]\n",
    "print(Number[indices])\n",
    "\n",
    "# Where\n",
    "Where = np.where(Number < 4)\n",
    "print(Number[Where])\n"
   ]
  },
  {
   "cell_type": "code",
   "execution_count": 42,
   "id": "d0f38160",
   "metadata": {},
   "outputs": [
    {
     "name": "stdout",
     "output_type": "stream",
     "text": [
      "['true' 'true' 'true' 'false' 'false' 'false' 'false' 'false' 'false'\n",
      " 'false' 'true' 'false' 'false' 'false' 'false']\n"
     ]
    }
   ],
   "source": [
    "Wheres = np.where(Number < 4, \"true\", \"false\")\n",
    "print(Wheres)"
   ]
  },
  {
   "cell_type": "markdown",
   "id": "7c5da1e7",
   "metadata": {},
   "source": [
    "# Add and Subtract"
   ]
  },
  {
   "cell_type": "code",
   "execution_count": 43,
   "id": "a8b122ef",
   "metadata": {},
   "outputs": [
    {
     "name": "stdout",
     "output_type": "stream",
     "text": [
      "[1. 2. 3. 4. 6. 1. 4. 0. 1. 2. 3. 4. 5. 6. 7. 8. 9.]\n"
     ]
    }
   ],
   "source": [
    "Add = np.concatenate((A,a))\n",
    "print(Add)"
   ]
  },
  {
   "cell_type": "code",
   "execution_count": 44,
   "id": "43d6b778",
   "metadata": {},
   "outputs": [
    {
     "name": "stdout",
     "output_type": "stream",
     "text": [
      "[1 2 3 4 6 7 8]\n"
     ]
    }
   ],
   "source": [
    "arr1 = np.array([1,2,3,4,5,6,7,8])\n",
    "delte = np.delete(arr1, 4)\n",
    "print(delte)"
   ]
  },
  {
   "cell_type": "markdown",
   "id": "d3bd1151",
   "metadata": {},
   "source": [
    "# Array Compatibility"
   ]
  },
  {
   "cell_type": "code",
   "execution_count": 45,
   "id": "b092e427",
   "metadata": {},
   "outputs": [
    {
     "name": "stdout",
     "output_type": "stream",
     "text": [
      "True\n",
      "False\n"
     ]
    }
   ],
   "source": [
    "Arr_a = np.array([1,23,4,5,6,7])\n",
    "Arr_b = np.array([2,4,1,3,4,2])\n",
    "Arr_c = np.array([[1,2,3,4,5],[3,2,2,3,1]])\n",
    "\n",
    "print(Arr_a.shape == Arr_b.shape)\n",
    "print(Arr_a.shape == Arr_c.shape)"
   ]
  },
  {
   "cell_type": "code",
   "execution_count": 46,
   "id": "fc168a08",
   "metadata": {},
   "outputs": [
    {
     "name": "stdout",
     "output_type": "stream",
     "text": [
      "[[1 2]\n",
      " [3 4]\n",
      " [5 6]\n",
      " [8 9]]\n"
     ]
    }
   ],
   "source": [
    "Array_orignal = np.array([[1,2],[3,4],[5,6]])\n",
    "new = np.array([[8,9]])\n",
    "\n",
    "add_row = np.vstack((Array_orignal , new))\n",
    "print(add_row)"
   ]
  },
  {
   "cell_type": "code",
   "execution_count": 47,
   "id": "2ff92d07",
   "metadata": {},
   "outputs": [
    {
     "name": "stdout",
     "output_type": "stream",
     "text": [
      "[[1 2 3]\n",
      " [3 4 2]\n",
      " [5 6 7]]\n"
     ]
    }
   ],
   "source": [
    "Array_orignal = np.array([[1,2],[3,4],[5,6]])\n",
    "new_col = np.array([[3],[2],[7]])\n",
    "\n",
    "add_col = np.hstack((Array_orignal , new_col))\n",
    "print(add_col)"
   ]
  },
  {
   "cell_type": "markdown",
   "id": "3f0162e6",
   "metadata": {},
   "source": [
    "# Example"
   ]
  },
  {
   "cell_type": "code",
   "execution_count": 48,
   "id": "c7d1f21c",
   "metadata": {},
   "outputs": [
    {
     "name": "stdout",
     "output_type": "stream",
     "text": [
      "=====Yadav Shop analysis=====\n",
      "\n",
      "Size of data 25\n",
      "\n",
      "Dimension of data, matrix 2\n",
      "\n",
      "Shape of Data (5, 5)\n"
     ]
    }
   ],
   "source": [
    "# Data structure: [shop_id, 2004, 2005, 2006, 2007]\n",
    "sales_data = np.array([\n",
    "    [1, 200000, 120000, 240000, 450000],  # Chhole\n",
    "    [2, 150000, 140000, 260000, 390000],  # Samosa\n",
    "    [3, 300000, 230000, 274500, 504000],  # Milk\n",
    "    [4, 130000, 310000, 240000, 244000],  # Paneer\n",
    "    [5, 160000, 585000, 205000, 430000]   # jalebi\n",
    "])\n",
    "\n",
    "\n",
    "print (\"=====Yadav Shop analysis=====\")\n",
    "print(\"\\nSize of data\",sales_data.size)\n",
    "print(\"\\nDimension of data, matrix\",sales_data.ndim)\n",
    "print(\"\\nShape of Data\", sales_data.shape)\n"
   ]
  },
  {
   "cell_type": "code",
   "execution_count": 49,
   "id": "71402da9",
   "metadata": {},
   "outputs": [
    {
     "name": "stdout",
     "output_type": "stream",
     "text": [
      "Sales data of 3 shop [[     1 200000 120000 240000 450000]\n",
      " [     2 150000 140000 260000 390000]\n",
      " [     3 300000 230000 274500 504000]]\n"
     ]
    }
   ],
   "source": [
    "print(\"Sales data of 3 shop\", sales_data[0:3])"
   ]
  },
  {
   "cell_type": "markdown",
   "id": "788d64fc",
   "metadata": {},
   "source": [
    "# Sales year wise"
   ]
  },
  {
   "cell_type": "code",
   "execution_count": 50,
   "id": "bfff1944",
   "metadata": {},
   "outputs": [
    {
     "name": "stdout",
     "output_type": "stream",
     "text": [
      "[ 940000 1385000 1219500 2018000]\n"
     ]
    }
   ],
   "source": [
    "#Total Sales per year\n",
    "Total_Sales = np.sum(sales_data[:,1:], axis = 0)\n",
    "print(Total_Sales)"
   ]
  },
  {
   "cell_type": "code",
   "execution_count": 51,
   "id": "742dd16f",
   "metadata": {},
   "outputs": [
    {
     "name": "stdout",
     "output_type": "stream",
     "text": [
      "[130000 120000 205000 244000]\n"
     ]
    }
   ],
   "source": [
    "#Minimum Sales per year\n",
    "Min_sales = np.min(sales_data[:,1:], axis = 0)\n",
    "print(Min_sales)"
   ]
  },
  {
   "cell_type": "code",
   "execution_count": 52,
   "id": "56b95e1a",
   "metadata": {},
   "outputs": [
    {
     "name": "stdout",
     "output_type": "stream",
     "text": [
      "[300000 585000 274500 504000]\n"
     ]
    }
   ],
   "source": [
    "#Maximum Sales per year\n",
    "Max_Sales = np.max(sales_data[:,1:], axis = 0)\n",
    "print(Max_Sales)"
   ]
  },
  {
   "cell_type": "code",
   "execution_count": 53,
   "id": "3f295582",
   "metadata": {},
   "outputs": [
    {
     "name": "stdout",
     "output_type": "stream",
     "text": [
      "[188000. 277000. 243900. 403600.]\n"
     ]
    }
   ],
   "source": [
    "#Average Sale per year\n",
    "Average_sale = np.mean(sales_data[:,1:], axis = 0)\n",
    "print(Average_sale)"
   ]
  },
  {
   "cell_type": "markdown",
   "id": "8d891877",
   "metadata": {},
   "source": [
    "# Sales Shop wise"
   ]
  },
  {
   "cell_type": "code",
   "execution_count": 54,
   "id": "70ef4f52",
   "metadata": {},
   "outputs": [
    {
     "name": "stdout",
     "output_type": "stream",
     "text": [
      "[[ 200000  320000  560000 1010000]\n",
      " [ 150000  290000  550000  940000]\n",
      " [ 300000  530000  804500 1308500]\n",
      " [ 130000  440000  680000  924000]\n",
      " [ 160000  745000  950000 1380000]]\n"
     ]
    }
   ],
   "source": [
    "#Cumulative sum\n",
    "cumsum = np.cumsum(sales_data[:,1:], axis = 1)\n",
    "print(cumsum)"
   ]
  },
  {
   "cell_type": "markdown",
   "id": "f6826c98",
   "metadata": {},
   "source": [
    "# Ploting using Matplotlib"
   ]
  },
  {
   "cell_type": "code",
   "execution_count": 55,
   "id": "c9a8be50",
   "metadata": {},
   "outputs": [
    {
     "data": {
      "image/png": "[encoded data removed]",
      "text/plain": [
       "<Figure size 800x600 with 1 Axes>"
      ]
     },
     "metadata": {},
     "output_type": "display_data"
    }
   ],
   "source": [
    "plt.figure(figsize=(8, 6))\n",
    "plt.plot(np.mean(cumsum, axis=0))\n",
    "plt.title(\"Average cumulative sales accross all Shops \")\n",
    "plt.xlabel(\"Years\")\n",
    "plt.ylabel(\"Sales\")\n",
    "plt.grid(True)\n",
    "plt.show()"
   ]
  },
  {
   "cell_type": "markdown",
   "id": "572ed81b",
   "metadata": {},
   "source": [
    "# Some Vector properties"
   ]
  },
  {
   "cell_type": "code",
   "execution_count": 56,
   "id": "7109589a",
   "metadata": {},
   "outputs": [
    {
     "name": "stdout",
     "output_type": "stream",
     "text": [
      "Add Vector 1 and 2 : [ 3  6  7  6  6 10 10]\n",
      "\n",
      " Multiplication of Vector 1 and 2 : [ 2  8 12  8  5 24 24]\n",
      "\n",
      " Dot product of Vector1 and 2 : 83\n",
      "\n",
      " angle:  0.5315647962691081\n"
     ]
    }
   ],
   "source": [
    "Vector1 = np.array([1,2,3,4,5,6,6])\n",
    "Vector2 = np.array([2,4,4,2,1,4,4])\n",
    "\n",
    "print(\"Add Vector 1 and 2 :\", Vector1 + Vector2)\n",
    "print(\"\\n Multiplication of Vector 1 and 2 :\", Vector1 * Vector2)\n",
    "print(\"\\n Dot product of Vector1 and 2 :\", np.dot(Vector1,Vector2))\n",
    "\n",
    "angle = np.arccos(np.dot(Vector1, Vector2)/( np.linalg.norm(Vector1)* np.linalg.norm(Vector2) ))\n",
    "print(\"\\n angle: \",angle)"
   ]
  },
  {
   "cell_type": "code",
   "execution_count": 57,
   "id": "28fb96e5",
   "metadata": {},
   "outputs": [
    {
     "name": "stdout",
     "output_type": "stream",
     "text": [
      "['CHHOLE' 'SAMOSA' 'MILK' 'PANEER' 'JALEBI']\n"
     ]
    }
   ],
   "source": [
    "Shop_type = np.array(['Chhole', 'Samosa', 'Milk' , 'Paneer', 'Jalebi'])\n",
    "vectorized = np.vectorize(str.upper)\n",
    "print(vectorized(Shop_type))"
   ]
  },
  {
   "cell_type": "code",
   "execution_count": 58,
   "id": "6bb57a5b",
   "metadata": {},
   "outputs": [
    {
     "name": "stdout",
     "output_type": "stream",
     "text": [
      "[[16666.66666667 10000.         20000.         37500.        ]\n",
      " [12500.         11666.66666667 21666.66666667 32500.        ]\n",
      " [25000.         19166.66666667 22875.         42000.        ]\n",
      " [10833.33333333 25833.33333333 20000.         20333.33333333]\n",
      " [13333.33333333 48750.         17083.33333333 35833.33333333]]\n"
     ]
    }
   ],
   "source": [
    "monthly_average = sales_data[:,1:] / 12\n",
    "print(monthly_average)"
   ]
  },
  {
   "cell_type": "markdown",
   "id": "f5b6eced",
   "metadata": {},
   "source": [
    "# Save Array and fetch back"
   ]
  },
  {
   "cell_type": "code",
   "execution_count": 59,
   "id": "a2dec819",
   "metadata": {},
   "outputs": [],
   "source": [
    "array_1 = np.array([1,2,3,4,5,6,7])\n",
    "array_2 = np.array(['Hi', 'my', 'name', 'is', 'Piyush'])\n",
    "array_3 = np.array([[1,2,3],[5,6,4]])\n",
    "\n",
    "np.save('array_1.npy', array_1)\n",
    "np.save('array_2.npy', array_2)\n",
    "np.save('array_3.npy', array_3)"
   ]
  },
  {
   "cell_type": "code",
   "execution_count": 60,
   "id": "aad5ecdc",
   "metadata": {},
   "outputs": [],
   "source": [
    "load_array1 = np.load('array_1.npy')"
   ]
  },
  {
   "cell_type": "code",
   "execution_count": 61,
   "id": "cb0a44ef",
   "metadata": {},
   "outputs": [
    {
     "name": "stdout",
     "output_type": "stream",
     "text": [
      "[1 2 3 4 5 6 7]\n"
     ]
    }
   ],
   "source": [
    "print(load_array1)"
   ]
  },
  {
   "cell_type": "markdown",
   "id": "d7ab5166",
   "metadata": {},
   "source": [
    "# Completed"
   ]
  }
 ],
 "metadata": {
  "kernelspec": {
   "display_name": "Python 3 (ipykernel)",
   "language": "python",
   "name": "python3"
  },
  "language_info": {
   "codemirror_mode": {
    "name": "ipython",
    "version": 3
   },
   "file_extension": ".py",
   "mimetype": "text/x-python",
   "name": "python",
   "nbconvert_exporter": "python",
   "pygments_lexer": "ipython3",
   "version": "3.11.0"
  }
 },
 "nbformat": 4,
 "nbformat_minor": 5
}
